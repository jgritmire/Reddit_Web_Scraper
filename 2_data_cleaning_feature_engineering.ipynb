{
 "cells": [
  {
   "cell_type": "code",
   "execution_count": 1,
   "id": "062ad825",
   "metadata": {
    "ExecuteTime": {
     "end_time": "2022-01-07T19:30:47.831489Z",
     "start_time": "2022-01-07T19:30:43.980790Z"
    }
   },
   "outputs": [],
   "source": [
    "import numpy as np\n",
    "import pandas as pd\n",
    "import emoji\n",
    "import datetime\n",
    "from datetime import datetime\n",
    "from datetime import timedelta\n",
    "from sklearn.feature_extraction.text import CountVectorizer\n",
    "from sklearn.feature_extraction.text import TfidfVectorizer\n",
    "import spacy\n",
    "from nltk.stem import WordNetLemmatizer\n",
    "from nltk.stem import PorterStemmer\n",
    "import requests\n",
    "from bs4 import BeautifulSoup"
   ]
  },
  {
   "cell_type": "code",
   "execution_count": 2,
   "id": "df9878a4",
   "metadata": {
    "ExecuteTime": {
     "end_time": "2022-01-07T19:30:47.924241Z",
     "start_time": "2022-01-07T19:30:47.834483Z"
    }
   },
   "outputs": [],
   "source": [
    "#import the data\n",
    "reddit = pd.read_csv('../data/reddit_data.csv')"
   ]
  },
  {
   "cell_type": "code",
   "execution_count": 3,
   "id": "f76e688a",
   "metadata": {
    "ExecuteTime": {
     "end_time": "2022-01-07T19:30:47.939201Z",
     "start_time": "2022-01-07T19:30:47.925239Z"
    }
   },
   "outputs": [],
   "source": [
    "# drop the new index column\n",
    "reddit.drop(columns = ['Unnamed: 0'], inplace=True)\n",
    "#set the post unique id as the index\n",
    "reddit.set_index('id', inplace=True)"
   ]
  },
  {
   "cell_type": "code",
   "execution_count": 4,
   "id": "95256256",
   "metadata": {
    "ExecuteTime": {
     "end_time": "2022-01-07T19:30:51.729064Z",
     "start_time": "2022-01-07T19:30:47.940199Z"
    }
   },
   "outputs": [],
   "source": [
    "#converting the emojis in the titles to strings\n",
    "reddit['title'] = reddit['title'].apply(emoji.demojize)"
   ]
  },
  {
   "cell_type": "code",
   "execution_count": 5,
   "id": "c0ad272c",
   "metadata": {
    "ExecuteTime": {
     "end_time": "2022-01-07T19:30:51.760978Z",
     "start_time": "2022-01-07T19:30:51.730062Z"
    }
   },
   "outputs": [],
   "source": [
    "#removing \"comments\" from the number of comments and converting to float\n",
    "reddit['comments'] = reddit['comments'].apply(lambda x: x.split(' ')[0])\n",
    "\n",
    "#removing the 'k' and converting to a float\n",
    "def k_thousand(x):\n",
    "    if x[-1] == 'k':\n",
    "        return int((float(x.replace('k','')))*1000)\n",
    "    else:\n",
    "        return int(x)\n",
    "    \n",
    "reddit['comments'] = (reddit['comments'].apply(k_thousand))\n",
    "        "
   ]
  },
  {
   "cell_type": "code",
   "execution_count": 6,
   "id": "5017dc38",
   "metadata": {
    "ExecuteTime": {
     "end_time": "2022-01-07T19:30:51.776936Z",
     "start_time": "2022-01-07T19:30:51.761976Z"
    }
   },
   "outputs": [],
   "source": [
    "def time_fixer(x):\n",
    "    if ' hours ago' in x:\n",
    "        return int(x.replace(' hours ago',''))\n",
    "    if ' hour ago' in x:\n",
    "        return int(x.replace(' hour ago',''))\n",
    "    if ' minutes ago' in x:\n",
    "        return round(int(x.replace(' minutes ago',''))/60)\n",
    "    if ' day ago' in x:\n",
    "        return int(x.replace(' day ago',''))*24\n",
    "\n",
    "#apply the function to our time column\n",
    "reddit['time'] = reddit['time'].apply(time_fixer)\n",
    "    \n",
    "#rename \"time\" to \"hours ago\"\n",
    "reddit.rename(columns = {'time':'hours_ago'}, inplace = True)"
   ]
  },
  {
   "cell_type": "code",
   "execution_count": 7,
   "id": "0a9a92a0",
   "metadata": {
    "ExecuteTime": {
     "end_time": "2022-01-07T19:30:51.792893Z",
     "start_time": "2022-01-07T19:30:51.777934Z"
    }
   },
   "outputs": [],
   "source": [
    "#remove the rows that have \"vote\" as their number of upvotes\n",
    "reddit = reddit[reddit['upvotes'] != 'Vote']"
   ]
  },
  {
   "cell_type": "code",
   "execution_count": 8,
   "id": "5caf55f4",
   "metadata": {
    "ExecuteTime": {
     "end_time": "2022-01-07T19:30:51.808850Z",
     "start_time": "2022-01-07T19:30:51.793891Z"
    }
   },
   "outputs": [],
   "source": [
    "#removing the 'k' from upvotes and converting to float\n",
    "reddit['upvotes'] = reddit['upvotes'].apply(k_thousand)"
   ]
  },
  {
   "cell_type": "code",
   "execution_count": 9,
   "id": "f17f4d5b",
   "metadata": {
    "ExecuteTime": {
     "end_time": "2022-01-07T19:30:51.967426Z",
     "start_time": "2022-01-07T19:30:51.809848Z"
    }
   },
   "outputs": [],
   "source": [
    "#convert scrape_time to a date time object\n",
    "reddit['scraped_time'] = reddit['scraped_time'].apply(\n",
    "    lambda x: datetime.strptime(x, '%Y-%m-%d %H:%M:%S.%f'))"
   ]
  },
  {
   "cell_type": "code",
   "execution_count": 10,
   "id": "7b0eb315",
   "metadata": {
    "ExecuteTime": {
     "end_time": "2022-01-07T19:30:52.014301Z",
     "start_time": "2022-01-07T19:30:51.968424Z"
    }
   },
   "outputs": [],
   "source": [
    "#converting hours ago to a time object\n",
    "reddit['hours_ago'] = reddit['hours_ago'].apply(lambda x: timedelta(hours=x))\n",
    "\n",
    "#subtracting hours_ago from scraped_time to get the initial posted time\n",
    "reddit['posted_time'] = reddit['scraped_time'] - reddit['hours_ago']"
   ]
  },
  {
   "cell_type": "code",
   "execution_count": 11,
   "id": "c6c656e7",
   "metadata": {
    "ExecuteTime": {
     "end_time": "2022-01-07T19:30:54.086757Z",
     "start_time": "2022-01-07T19:30:52.015298Z"
    }
   },
   "outputs": [],
   "source": [
    "#creating our target variable, 1 if above median # of comments, 0 if not\n",
    "reddit['target'] = reddit['comments'].apply(lambda x: 1 if x > reddit['comments'].median() else 0)"
   ]
  },
  {
   "cell_type": "code",
   "execution_count": 12,
   "id": "d7f8c5ce",
   "metadata": {
    "ExecuteTime": {
     "end_time": "2022-01-07T19:30:54.118672Z",
     "start_time": "2022-01-07T19:30:54.087755Z"
    }
   },
   "outputs": [],
   "source": [
    "#creating a variable for length of the title\n",
    "reddit['title_len'] = reddit['title'].apply(lambda x: len(x.split()))"
   ]
  },
  {
   "cell_type": "code",
   "execution_count": 13,
   "id": "dab2fb3d",
   "metadata": {
    "ExecuteTime": {
     "end_time": "2022-01-07T19:30:54.134630Z",
     "start_time": "2022-01-07T19:30:54.119670Z"
    }
   },
   "outputs": [],
   "source": [
    "#creating a variable for if a title contains an emoji\n",
    "reddit['title_emoji'] = reddit['title'].apply(lambda x: 1 if x.count(':')>=2 else 0)"
   ]
  },
  {
   "cell_type": "code",
   "execution_count": 14,
   "id": "9e0d0011",
   "metadata": {
    "ExecuteTime": {
     "end_time": "2022-01-07T19:30:54.213418Z",
     "start_time": "2022-01-07T19:30:54.136625Z"
    }
   },
   "outputs": [],
   "source": [
    "#extracting the hour from the posted_time column\n",
    "\n",
    "hours = []\n",
    "for time in reddit['posted_time']:\n",
    "    hours.append(time.hour)\n",
    "\n",
    "reddit['posted_hour'] = hours\n",
    "\n",
    "reddit['posted_hour'] = reddit['posted_hour'].apply(lambda x: 24 if x == 0 else x)"
   ]
  },
  {
   "cell_type": "code",
   "execution_count": 15,
   "id": "eaf7989b",
   "metadata": {
    "ExecuteTime": {
     "end_time": "2022-01-07T19:30:54.244336Z",
     "start_time": "2022-01-07T19:30:54.214416Z"
    }
   },
   "outputs": [],
   "source": [
    "#creating a column indicating what day of the week the post was posted\n",
    "#1 = monday\n",
    "\n",
    "weekdays = []\n",
    "\n",
    "for time in reddit['posted_time']:\n",
    "    weekdays.append(time.weekday())\n",
    "\n",
    "reddit['posted_weekday'] = weekdays\n",
    "reddit['posted_weekday'] = reddit['posted_weekday'] + 1\n",
    "\n",
    "def weekdays(x):\n",
    "    if x == 1:\n",
    "        return 'Monday'\n",
    "    if x == 2:\n",
    "        return 'Tuesday'\n",
    "    if x == 3:\n",
    "        return 'Wednesday'\n",
    "    if x == 4:\n",
    "        return 'Thursday'\n",
    "    if x == 5:\n",
    "        return 'Friday'\n",
    "    if x == 6:\n",
    "        return 'Saturday'\n",
    "    if x == 7:\n",
    "        return 'Sunday'\n",
    "\n",
    "reddit['posted_weekday'] = reddit['posted_weekday'].apply(weekdays)"
   ]
  },
  {
   "cell_type": "code",
   "execution_count": 16,
   "id": "8b53d76b",
   "metadata": {
    "ExecuteTime": {
     "end_time": "2022-01-07T19:30:56.550168Z",
     "start_time": "2022-01-07T19:30:54.245334Z"
    }
   },
   "outputs": [],
   "source": [
    "#creating a column with stemmed titles\n",
    "\n",
    "#lower case all titles\n",
    "reddit['title'] == reddit['title'].apply(lambda x: x.lower())\n",
    "\n",
    "#instantiate the stemmer\n",
    "ps = PorterStemmer()\n",
    "\n",
    "#create an empty list to store all the stemmed titles\n",
    "stemmed_title_list = []\n",
    "\n",
    "#make this into a list comprehension\n",
    "\n",
    "#stem the titles and append them to the empty list\n",
    "for post_title in reddit['title']:\n",
    "    temp_list = []\n",
    "    for word in post_title.split():\n",
    "        temp_list.append(ps.stem(word.lower()))\n",
    "    title_item = \" \".join(temp_list)\n",
    "    stemmed_title_list.append(title_item)\n",
    " \n",
    "#create a column from stemmed titles\n",
    "reddit['stemmed_title'] = stemmed_title_list"
   ]
  },
  {
   "cell_type": "code",
   "execution_count": 17,
   "id": "0304c50f",
   "metadata": {
    "ExecuteTime": {
     "end_time": "2022-01-07T19:30:56.566126Z",
     "start_time": "2022-01-07T19:30:56.551166Z"
    }
   },
   "outputs": [],
   "source": [
    "#dropping duplicated indices, keeping the most recent version of the post\n",
    "reddit = reddit[~reddit.index.duplicated(keep='last')]"
   ]
  },
  {
   "cell_type": "code",
   "execution_count": 18,
   "id": "ef69b10a",
   "metadata": {
    "ExecuteTime": {
     "end_time": "2022-01-07T19:30:56.582082Z",
     "start_time": "2022-01-07T19:30:56.567123Z"
    }
   },
   "outputs": [],
   "source": [
    "# dropping duplicated titles\n",
    "reddit = reddit[~reddit.title.duplicated(keep='first')]\n"
   ]
  },
  {
   "cell_type": "code",
   "execution_count": 19,
   "id": "422ce1ed",
   "metadata": {
    "ExecuteTime": {
     "end_time": "2022-01-07T19:30:56.917187Z",
     "start_time": "2022-01-07T19:30:56.583080Z"
    }
   },
   "outputs": [],
   "source": [
    "#TFIDF top 10\n",
    "\n",
    "#Instantiate TFIDF vectorizer\n",
    "tvec = TfidfVectorizer(\n",
    "                        stop_words = 'english',\n",
    "                       strip_accents = 'ascii',\n",
    "                       max_features = 10,\n",
    "                       max_df = .60,\n",
    "                       norm = 'l2'\n",
    ")\n",
    "#fit the TFIDF vectorizer\n",
    "tvec.fit(reddit['stemmed_title'])\n",
    "\n",
    "#create a dataframe by transforming our stemmed title with the fitted TVEC\n",
    "df_tvec = pd.DataFrame(tvec.transform(reddit['stemmed_title']).todense(),\n",
    "                  columns = tvec.get_feature_names())\n",
    "df_tvec['post_id'] = reddit.index\n",
    "\n",
    "#save as a csv\n",
    "df_tvec.to_csv('../data/title_tfidf_10.csv', index=False)"
   ]
  },
  {
   "cell_type": "code",
   "execution_count": 20,
   "id": "b869c669",
   "metadata": {
    "ExecuteTime": {
     "end_time": "2022-01-07T19:30:57.325095Z",
     "start_time": "2022-01-07T19:30:56.918185Z"
    }
   },
   "outputs": [],
   "source": [
    "#TFIDF top 25\n",
    "\n",
    "#Instantiate TFIDF vectorizer\n",
    "tvec = TfidfVectorizer(\n",
    "                        stop_words = 'english',\n",
    "                       strip_accents = 'ascii',\n",
    "                       max_features = 25,\n",
    "                       max_df = .60,\n",
    "                       norm = 'l2'\n",
    ")\n",
    "#fit the TFIDF vectorizer\n",
    "tvec.fit(reddit['stemmed_title'])\n",
    "\n",
    "#create a dataframe by transforming our stemmed title with the fitted TVEC\n",
    "df_tvec = pd.DataFrame(tvec.transform(reddit['stemmed_title']).todense(),\n",
    "                  columns = tvec.get_feature_names())\n",
    "df_tvec['post_id'] = reddit.index\n",
    "\n",
    "#save as a csv\n",
    "df_tvec.to_csv('../data/title_tfidf_25.csv', index=False)"
   ]
  },
  {
   "cell_type": "code",
   "execution_count": 21,
   "id": "faab02d7",
   "metadata": {
    "ExecuteTime": {
     "end_time": "2022-01-07T19:30:57.879612Z",
     "start_time": "2022-01-07T19:30:57.326093Z"
    }
   },
   "outputs": [],
   "source": [
    "#TFIDF top 50\n",
    "\n",
    "#Instantiate TFIDF vectorizer\n",
    "tvec = TfidfVectorizer(\n",
    "                        stop_words = 'english',\n",
    "                       strip_accents = 'ascii',\n",
    "                       max_features = 50,\n",
    "                       max_df = .60,\n",
    "                       norm = 'l2'\n",
    ")\n",
    "#fit the TFIDF vectorizer\n",
    "tvec.fit(reddit['stemmed_title'])\n",
    "\n",
    "#create a dataframe by transforming our stemmed title with the fitted TVEC\n",
    "df_tvec = pd.DataFrame(tvec.transform(reddit['stemmed_title']).todense(),\n",
    "                  columns = tvec.get_feature_names())\n",
    "df_tvec['post_id'] = reddit.index\n",
    "\n",
    "#save as a csv\n",
    "df_tvec.to_csv('../data/title_tfidf_50.csv', index=False)"
   ]
  },
  {
   "cell_type": "code",
   "execution_count": 22,
   "id": "068faf3d",
   "metadata": {
    "ExecuteTime": {
     "end_time": "2022-01-07T19:30:58.586720Z",
     "start_time": "2022-01-07T19:30:57.880610Z"
    }
   },
   "outputs": [],
   "source": [
    "#TFIDF top 100\n",
    "\n",
    "#Instantiate TFIDF vectorizer\n",
    "tvec = TfidfVectorizer(\n",
    "                        stop_words = 'english',\n",
    "                       strip_accents = 'ascii',\n",
    "                       max_features = 100,\n",
    "                       max_df = .60,\n",
    "                       norm = 'l2'\n",
    ")\n",
    "#fit the TFIDF vectorizer\n",
    "tvec.fit(reddit['stemmed_title'])\n",
    "\n",
    "#create a dataframe by transforming our stemmed title with the fitted TVEC\n",
    "df_tvec = pd.DataFrame(tvec.transform(reddit['stemmed_title']).todense(),\n",
    "                  columns = tvec.get_feature_names())\n",
    "df_tvec['post_id'] = reddit.index\n",
    "\n",
    "#save as a csv\n",
    "df_tvec.to_csv('../data/title_tfidf_100.csv', index=False)"
   ]
  },
  {
   "cell_type": "code",
   "execution_count": 23,
   "id": "36db990f",
   "metadata": {
    "ExecuteTime": {
     "end_time": "2022-01-07T19:30:58.602678Z",
     "start_time": "2022-01-07T19:30:58.588716Z"
    }
   },
   "outputs": [],
   "source": [
    "#create a column with post_id for merging purposes\n",
    "reddit['post_id'] = reddit.index"
   ]
  },
  {
   "cell_type": "code",
   "execution_count": 24,
   "id": "6d7c9bc8",
   "metadata": {
    "ExecuteTime": {
     "end_time": "2022-01-07T19:30:58.618635Z",
     "start_time": "2022-01-07T19:30:58.603676Z"
    }
   },
   "outputs": [],
   "source": [
    "#removing the EXTREMELY popular posts\n",
    "reddit = reddit[reddit['comments']<10000]\n",
    "reddit = reddit[reddit['upvotes']<100000]"
   ]
  },
  {
   "cell_type": "code",
   "execution_count": 25,
   "id": "d1e27b48",
   "metadata": {
    "ExecuteTime": {
     "end_time": "2022-01-07T19:30:58.857995Z",
     "start_time": "2022-01-07T19:30:58.619633Z"
    }
   },
   "outputs": [],
   "source": [
    "reddit.to_csv('../data/reddit_data_cleaned.csv', index = False)"
   ]
  },
  {
   "cell_type": "code",
   "execution_count": 27,
   "id": "97b8c007",
   "metadata": {
    "ExecuteTime": {
     "end_time": "2022-01-07T19:40:07.084574Z",
     "start_time": "2022-01-07T19:40:07.079588Z"
    }
   },
   "outputs": [
    {
     "data": {
      "text/plain": [
       "(14226, 17)"
      ]
     },
     "execution_count": 27,
     "metadata": {},
     "output_type": "execute_result"
    }
   ],
   "source": [
    "reddit.shape"
   ]
  },
  {
   "cell_type": "code",
   "execution_count": null,
   "id": "ad5882bf",
   "metadata": {},
   "outputs": [],
   "source": []
  }
 ],
 "metadata": {
  "kernelspec": {
   "display_name": "Python 3",
   "language": "python",
   "name": "python3"
  },
  "language_info": {
   "codemirror_mode": {
    "name": "ipython",
    "version": 3
   },
   "file_extension": ".py",
   "mimetype": "text/x-python",
   "name": "python",
   "nbconvert_exporter": "python",
   "pygments_lexer": "ipython3",
   "version": "3.8.8"
  }
 },
 "nbformat": 4,
 "nbformat_minor": 5
}
